{
 "cells": [
  {
   "cell_type": "markdown",
   "metadata": {},
   "source": [
    "# List :\n",
    "* Datatype in python\n",
    "* Mutable - It can change once it created\n",
    "* List is container that contains all data types like-\n",
    "    * string\n",
    "    * integer\n",
    "    * float\n",
    "    * list"
   ]
  },
  {
   "cell_type": "code",
   "execution_count": 1,
   "metadata": {},
   "outputs": [
    {
     "name": "stdout",
     "output_type": "stream",
     "text": [
      "['Harpic', 'Vim Bar', 'Deodrant', 'Bhindi', 'Lollypop']\n"
     ]
    }
   ],
   "source": [
    "# List of strings\n",
    "grocery1 = [\"Harpic\", \"Vim Bar\",\"Deodrant\",\"Bhindi\",\"Lollypop\"]\n",
    "print(grocery1)"
   ]
  },
  {
   "cell_type": "code",
   "execution_count": 2,
   "metadata": {},
   "outputs": [
    {
     "name": "stdout",
     "output_type": "stream",
     "text": [
      "['Harpic', 'Vim Bar', 56, 48.7]\n"
     ]
    }
   ],
   "source": [
    "# List of Mixed\n",
    "grocery2 = [\"Harpic\", \"Vim Bar\", 56, 48.7]\n",
    "print(grocery2)"
   ]
  },
  {
   "cell_type": "code",
   "execution_count": 3,
   "metadata": {},
   "outputs": [
    {
     "name": "stdout",
     "output_type": "stream",
     "text": [
      "Harpic\n"
     ]
    }
   ],
   "source": [
    "# To access items of list\n",
    "print(grocery1[0])"
   ]
  },
  {
   "cell_type": "code",
   "execution_count": 4,
   "metadata": {},
   "outputs": [
    {
     "ename": "IndexError",
     "evalue": "list index out of range",
     "output_type": "error",
     "traceback": [
      "\u001b[1;31m---------------------------------------------------------------------------\u001b[0m",
      "\u001b[1;31mIndexError\u001b[0m                                Traceback (most recent call last)",
      "\u001b[1;32md:\\Python Learning ✅\\1- Python- Harry (129 videos)\\5-List, Tuple & thier functions.ipynb Cell 5'\u001b[0m in \u001b[0;36m<cell line: 1>\u001b[1;34m()\u001b[0m\n\u001b[1;32m----> <a href='vscode-notebook-cell:/d%3A/Python%20Learning%20%E2%9C%85/1-%20Python-%20Harry%20%28129%20videos%29/5-List%2C%20Tuple%20%26%20thier%20functions.ipynb#ch0000006?line=0'>1</a>\u001b[0m \u001b[39mprint\u001b[39m(grocery1[\u001b[39m5\u001b[39;49m])\n",
      "\u001b[1;31mIndexError\u001b[0m: list index out of range"
     ]
    }
   ],
   "source": [
    "print(grocery1[5])    # Error"
   ]
  },
  {
   "cell_type": "code",
   "execution_count": 5,
   "metadata": {},
   "outputs": [
    {
     "name": "stdout",
     "output_type": "stream",
     "text": [
      "9\n"
     ]
    }
   ],
   "source": [
    "numbers = [2, 7, 9, 11, 13]\n",
    "print(numbers[2])"
   ]
  },
  {
   "cell_type": "markdown",
   "metadata": {},
   "source": [
    "## List Slicing :\n",
    "* Below these are operations which can't affect the original list"
   ]
  },
  {
   "cell_type": "code",
   "execution_count": 6,
   "metadata": {},
   "outputs": [
    {
     "name": "stdout",
     "output_type": "stream",
     "text": [
      "[2, 7, 9, 11, 13]\n",
      "[2, 7, 9, 11, 13]\n"
     ]
    }
   ],
   "source": [
    "print(numbers[0 : 5])\n",
    "print(numbers[ : ])"
   ]
  },
  {
   "cell_type": "code",
   "execution_count": 7,
   "metadata": {},
   "outputs": [
    {
     "name": "stdout",
     "output_type": "stream",
     "text": [
      "[7, 9, 11, 13]\n",
      "[7, 9, 11]\n"
     ]
    }
   ],
   "source": [
    "print(numbers[1 : ])\n",
    "print(numbers[1 : 4])"
   ]
  },
  {
   "cell_type": "markdown",
   "metadata": {},
   "source": [
    "## Extended Slice :\n",
    "* A next parameter"
   ]
  },
  {
   "cell_type": "code",
   "execution_count": 8,
   "metadata": {},
   "outputs": [
    {
     "name": "stdout",
     "output_type": "stream",
     "text": [
      "[2, 9, 13]\n",
      "[13, 7]\n"
     ]
    }
   ],
   "source": [
    "print(numbers[ : : 2])\n",
    "print(numbers[ : : -3])"
   ]
  },
  {
   "cell_type": "code",
   "execution_count": 9,
   "metadata": {},
   "outputs": [
    {
     "name": "stdout",
     "output_type": "stream",
     "text": [
      "[]\n",
      "[7, 11]\n"
     ]
    }
   ],
   "source": [
    "print(numbers[1 : 5 : -3])         # Don't work (don't take <-1)\n",
    "print(numbers[1 : 5 : 2])"
   ]
  },
  {
   "cell_type": "markdown",
   "metadata": {},
   "source": [
    "## List Functions :\n",
    "1. list.sort()\n",
    "    * It change the original list\n",
    "    * Return None"
   ]
  },
  {
   "cell_type": "code",
   "execution_count": 10,
   "metadata": {},
   "outputs": [
    {
     "name": "stdout",
     "output_type": "stream",
     "text": [
      "None\n"
     ]
    }
   ],
   "source": [
    "l = [2, 5, 7, 15, 13, 11, 9]\n",
    "print(l.sort())                     # Return None"
   ]
  },
  {
   "cell_type": "code",
   "execution_count": 11,
   "metadata": {},
   "outputs": [
    {
     "name": "stdout",
     "output_type": "stream",
     "text": [
      "[2, 5, 7, 9, 11, 13, 15]\n"
     ]
    }
   ],
   "source": [
    "l.sort()            # It change original list\n",
    "print(l)"
   ]
  },
  {
   "cell_type": "markdown",
   "metadata": {},
   "source": [
    "2. list.reverse()\n",
    "    * It change original list\n",
    "    * Return None"
   ]
  },
  {
   "cell_type": "code",
   "execution_count": 12,
   "metadata": {},
   "outputs": [
    {
     "name": "stdout",
     "output_type": "stream",
     "text": [
      "[15, 13, 11, 9, 7, 5, 2]\n"
     ]
    }
   ],
   "source": [
    "l.reverse()             # Return None\n",
    "print(l)                # Changed list"
   ]
  },
  {
   "cell_type": "markdown",
   "metadata": {},
   "source": [
    "3. len(list)\n",
    "    * Return length of list"
   ]
  },
  {
   "cell_type": "code",
   "execution_count": 13,
   "metadata": {},
   "outputs": [
    {
     "name": "stdout",
     "output_type": "stream",
     "text": [
      "7\n"
     ]
    }
   ],
   "source": [
    "print(len(l))"
   ]
  },
  {
   "cell_type": "markdown",
   "metadata": {},
   "source": [
    "4. max(list)\n",
    "    * Return the maximum value in list"
   ]
  },
  {
   "cell_type": "code",
   "execution_count": 14,
   "metadata": {},
   "outputs": [
    {
     "name": "stdout",
     "output_type": "stream",
     "text": [
      "15\n"
     ]
    }
   ],
   "source": [
    "print(max(l))"
   ]
  },
  {
   "cell_type": "markdown",
   "metadata": {},
   "source": [
    "5. min(list)\n",
    "    * Return the minimum number of the list"
   ]
  },
  {
   "cell_type": "code",
   "execution_count": 15,
   "metadata": {},
   "outputs": [
    {
     "name": "stdout",
     "output_type": "stream",
     "text": [
      "2\n"
     ]
    }
   ],
   "source": [
    "print(min(l))"
   ]
  },
  {
   "cell_type": "markdown",
   "metadata": {},
   "source": [
    "6. list.append(number)\n",
    "    * It add the given \"number\" to that variable at the end\n",
    "    * and change the original list"
   ]
  },
  {
   "cell_type": "code",
   "execution_count": 16,
   "metadata": {},
   "outputs": [
    {
     "name": "stdout",
     "output_type": "stream",
     "text": [
      "[15, 13, 11, 9, 7, 5, 2, 17]\n"
     ]
    }
   ],
   "source": [
    "l.append(17)\n",
    "print(l)"
   ]
  },
  {
   "cell_type": "code",
   "execution_count": 17,
   "metadata": {},
   "outputs": [
    {
     "name": "stdout",
     "output_type": "stream",
     "text": [
      "[15, 13, 11, 9, 7, 5, 2, 17, 18, 19, 20]\n"
     ]
    }
   ],
   "source": [
    "# append can be use repetitively\n",
    "l.append(18)\n",
    "l.append(19)\n",
    "l.append(20)                #append only at end of the list\n",
    "print(l)"
   ]
  },
  {
   "cell_type": "code",
   "execution_count": 18,
   "metadata": {},
   "outputs": [
    {
     "name": "stdout",
     "output_type": "stream",
     "text": [
      "[5, 40]\n"
     ]
    }
   ],
   "source": [
    "nums = []           # Blank List\n",
    "nums.append(5)\n",
    "nums.append(40)\n",
    "print(nums)"
   ]
  },
  {
   "cell_type": "markdown",
   "metadata": {},
   "source": [
    "7. list.insert(index, value)\n",
    "    * It add the value at mentioned index in list"
   ]
  },
  {
   "cell_type": "code",
   "execution_count": 19,
   "metadata": {},
   "outputs": [
    {
     "name": "stdout",
     "output_type": "stream",
     "text": [
      "[5, 50, 40]\n"
     ]
    }
   ],
   "source": [
    "nums.insert(1, 50)\n",
    "print(nums)"
   ]
  },
  {
   "cell_type": "markdown",
   "metadata": {},
   "source": [
    "8. list.remove(value)\n",
    "    * It remove mentioned value"
   ]
  },
  {
   "cell_type": "code",
   "execution_count": 20,
   "metadata": {},
   "outputs": [
    {
     "name": "stdout",
     "output_type": "stream",
     "text": [
      "[50, 40]\n"
     ]
    }
   ],
   "source": [
    "nums.remove(5)\n",
    "print(nums)"
   ]
  },
  {
   "cell_type": "markdown",
   "metadata": {},
   "source": [
    "9. list.pop()\n",
    "    * Remove end item in list\n",
    "    * No need parameter"
   ]
  },
  {
   "cell_type": "code",
   "execution_count": 21,
   "metadata": {},
   "outputs": [
    {
     "name": "stdout",
     "output_type": "stream",
     "text": [
      "[50]\n"
     ]
    }
   ],
   "source": [
    "nums.pop()\n",
    "print(nums)"
   ]
  },
  {
   "cell_type": "markdown",
   "metadata": {},
   "source": [
    "10. Updating value by assigning-\n",
    "    * list[1] = value\n",
    "    * It replace/change item in list"
   ]
  },
  {
   "cell_type": "code",
   "execution_count": 23,
   "metadata": {},
   "outputs": [
    {
     "name": "stdout",
     "output_type": "stream",
     "text": [
      "[10]\n"
     ]
    }
   ],
   "source": [
    "nums[0] = 10\n",
    "print(nums)"
   ]
  },
  {
   "cell_type": "markdown",
   "metadata": {},
   "source": [
    "# Tuple :\n",
    "* Immutable - It can not be change once it created"
   ]
  },
  {
   "cell_type": "code",
   "execution_count": 24,
   "metadata": {},
   "outputs": [
    {
     "name": "stdout",
     "output_type": "stream",
     "text": [
      "(1, 2, 3)\n"
     ]
    }
   ],
   "source": [
    "tp = (1, 2, 3)\n",
    "print(tp)"
   ]
  },
  {
   "cell_type": "code",
   "execution_count": 25,
   "metadata": {},
   "outputs": [
    {
     "ename": "TypeError",
     "evalue": "'tuple' object does not support item assignment",
     "output_type": "error",
     "traceback": [
      "\u001b[1;31m---------------------------------------------------------------------------\u001b[0m",
      "\u001b[1;31mTypeError\u001b[0m                                 Traceback (most recent call last)",
      "\u001b[1;32md:\\Python Learning ✅\\1- Python- Harry (129 videos)\\5-List, Tuple & thier functions.ipynb Cell 38'\u001b[0m in \u001b[0;36m<cell line: 1>\u001b[1;34m()\u001b[0m\n\u001b[1;32m----> <a href='vscode-notebook-cell:/d%3A/Python%20Learning%20%E2%9C%85/1-%20Python-%20Harry%20%28129%20videos%29/5-List%2C%20Tuple%20%26%20thier%20functions.ipynb#ch0000038?line=0'>1</a>\u001b[0m tp[\u001b[39m1\u001b[39m] \u001b[39m=\u001b[39m \u001b[39m4\u001b[39m\n\u001b[0;32m      <a href='vscode-notebook-cell:/d%3A/Python%20Learning%20%E2%9C%85/1-%20Python-%20Harry%20%28129%20videos%29/5-List%2C%20Tuple%20%26%20thier%20functions.ipynb#ch0000038?line=1'>2</a>\u001b[0m \u001b[39mprint\u001b[39m(tp)\n",
      "\u001b[1;31mTypeError\u001b[0m: 'tuple' object does not support item assignment"
     ]
    }
   ],
   "source": [
    "tp[1] = 4           # Tuple can't change\n",
    "print(tp)"
   ]
  },
  {
   "cell_type": "code",
   "execution_count": 27,
   "metadata": {},
   "outputs": [
    {
     "name": "stdout",
     "output_type": "stream",
     "text": [
      "1\n"
     ]
    }
   ],
   "source": [
    "tp1 = (1)           # It can be taken as number\n",
    "print(tp1)"
   ]
  },
  {
   "cell_type": "code",
   "execution_count": 28,
   "metadata": {},
   "outputs": [
    {
     "name": "stdout",
     "output_type": "stream",
     "text": [
      "(1,)\n"
     ]
    }
   ],
   "source": [
    "tp2 = (1, )\n",
    "print(tp2)"
   ]
  },
  {
   "cell_type": "markdown",
   "metadata": {},
   "source": [
    "## Quiz -2 \n",
    "* Swapping in python"
   ]
  },
  {
   "cell_type": "code",
   "execution_count": 29,
   "metadata": {},
   "outputs": [
    {
     "name": "stdout",
     "output_type": "stream",
     "text": [
      "8 1\n"
     ]
    }
   ],
   "source": [
    "a = 1\n",
    "b = 8\n",
    "a, b = b, a\n",
    "print(a,b)"
   ]
  },
  {
   "cell_type": "markdown",
   "metadata": {},
   "source": [
    "[Google List Function](https://www.w3schools.com/python/python_ref_list.asp)"
   ]
  }
 ],
 "metadata": {
  "kernelspec": {
   "display_name": "Python 3.10.4 64-bit",
   "language": "python",
   "name": "python3"
  },
  "language_info": {
   "codemirror_mode": {
    "name": "ipython",
    "version": 3
   },
   "file_extension": ".py",
   "mimetype": "text/x-python",
   "name": "python",
   "nbconvert_exporter": "python",
   "pygments_lexer": "ipython3",
   "version": "3.10.4"
  },
  "orig_nbformat": 4,
  "vscode": {
   "interpreter": {
    "hash": "21a211638620dc4d13124771efa70334ad80aea274b054c266d925d2e2a04b1b"
   }
  }
 },
 "nbformat": 4,
 "nbformat_minor": 2
}
