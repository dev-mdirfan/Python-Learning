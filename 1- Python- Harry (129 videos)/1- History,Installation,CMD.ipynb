{
 "cells": [
  {
   "cell_type": "markdown",
   "metadata": {},
   "source": [
    "# History\n",
    "## From python we can make --\n",
    "* Games -\n",
    "    * Flappy bird using PyGame\n",
    "    * Snake game using PyGame\n",
    "* Websites- in backend using Python flask\n",
    "* GUI (Graphics User Interface)\n",
    "* Natural Language Processing (speaking to/with machine)\n",
    "* Print receipt for customers (Payment Calculator)\n",
    "\n",
    "| Python 1 | Python 2 | Python 3 |\n",
    "| --- | --- | --- |\n",
    "| 20 Feb 1991 | 16 Oct 2000 | 03 Dec 2008 |\n",
    "\n",
    "## Python used in :\n",
    "* Instagram Backend\n",
    "* Facebook Custom\n",
    "* Youtube Custom\n",
    "* Intel\n",
    "* IBM\n",
    "* NASA\n",
    "* JPMorgan\n",
    "\n",
    "## Project Example:\n",
    "* Print Receipt for every client (only required to fill detail then it convert into receipt).\n",
    "\n",
    "## Developed By:\n",
    "`Guido Van Rossum`\n",
    "\n",
    "## Name Script taken from:\n",
    "`\"Monty Python's Flying Circus\"` from a BBC comedy series.\n",
    "\n",
    "## Download:\n",
    "* Base Interpreter:\n",
    "    * Python 3.11.0 -> Install\n",
    "* IDE (Integrated Development Environment):\n",
    "    * PyCharm (Jetbrains)\n",
    "        * Professional (Paid) ❎\n",
    "        * Community (Free) ✅ -> Open -> Install\n",
    "\n",
    "## For Run: Command Prompt/Window PowerShell\n",
    "> python\n",
    "\n",
    "> exit()\n",
    "\n",
    "> pip      \n",
    "\n",
    "(It Shows \"No Error\")\n",
    "\n",
    "## How to install External Module:\n",
    "* Open PowerShell\n",
    "* Write `\"pip install flask\"`\n",
    "* Run python REPL(Run Evaluate Print Loop) by writing `\"python\"`\n",
    "\n",
    "> python\n",
    "\n",
    "> import flask\n",
    "\n",
    "(Shows \"No Error\")\n",
    "\n",
    "> import random\n",
    "\n",
    "(\"No Error\" - It is Built-in Module)\n",
    "\n",
    "> import pandas\n",
    "\n",
    "(\"Error\" - Not Found)\n",
    "\n",
    "> exit()\n",
    "\n",
    "## Important Remarks:\n",
    "* pip - Package Manager of python\n",
    "* You can also use another software like - V.S.Code, Sublime Text, Atom.\n",
    "* Don't use module name as Python file Name like flask,pandas e.t.c\n",
    "* You can use multiple interpreter like python 3.9, 3.8, 3.7 e.t. simultaneously in Pycharm\n",
    "* Module:\n",
    "    * Built in Module - already in python\n",
    "    * External Module - download from internet\n",
    "\n",
    "## Run in PowerShell:\n",
    "> python"
   ]
  },
  {
   "cell_type": "code",
   "execution_count": 4,
   "metadata": {},
   "outputs": [
    {
     "data": {
      "text/plain": [
       "101"
      ]
     },
     "execution_count": 4,
     "metadata": {},
     "output_type": "execute_result"
    }
   ],
   "source": [
    "20+56+25"
   ]
  },
  {
   "cell_type": "code",
   "execution_count": 3,
   "metadata": {},
   "outputs": [
    {
     "data": {
      "text/plain": [
       "560"
      ]
     },
     "execution_count": 3,
     "metadata": {},
     "output_type": "execute_result"
    }
   ],
   "source": [
    "56*10"
   ]
  },
  {
   "cell_type": "code",
   "execution_count": 2,
   "metadata": {},
   "outputs": [
    {
     "data": {
      "text/plain": [
       "373"
      ]
     },
     "execution_count": 2,
     "metadata": {},
     "output_type": "execute_result"
    }
   ],
   "source": [
    "10*4 + 5*9 + 36*8"
   ]
  },
  {
   "cell_type": "code",
   "execution_count": 5,
   "metadata": {},
   "outputs": [
    {
     "data": {
      "text/plain": [
       "4.5"
      ]
     },
     "execution_count": 5,
     "metadata": {},
     "output_type": "execute_result"
    }
   ],
   "source": [
    "36/8     # Float Value"
   ]
  },
  {
   "cell_type": "code",
   "execution_count": 6,
   "metadata": {},
   "outputs": [
    {
     "data": {
      "text/plain": [
       "5.0"
      ]
     },
     "execution_count": 6,
     "metadata": {},
     "output_type": "execute_result"
    }
   ],
   "source": [
    "25/5    # Float Value"
   ]
  },
  {
   "cell_type": "code",
   "execution_count": 7,
   "metadata": {},
   "outputs": [
    {
     "data": {
      "text/plain": [
       "5"
      ]
     },
     "execution_count": 7,
     "metadata": {},
     "output_type": "execute_result"
    }
   ],
   "source": [
    "25//5    # Int Value"
   ]
  }
 ],
 "metadata": {
  "interpreter": {
   "hash": "21a211638620dc4d13124771efa70334ad80aea274b054c266d925d2e2a04b1b"
  },
  "kernelspec": {
   "display_name": "Python 3.10.4 64-bit",
   "language": "python",
   "name": "python3"
  },
  "language_info": {
   "codemirror_mode": {
    "name": "ipython",
    "version": 3
   },
   "file_extension": ".py",
   "mimetype": "text/x-python",
   "name": "python",
   "nbconvert_exporter": "python",
   "pygments_lexer": "ipython3",
   "version": "3.10.4"
  },
  "orig_nbformat": 4
 },
 "nbformat": 4,
 "nbformat_minor": 2
}
