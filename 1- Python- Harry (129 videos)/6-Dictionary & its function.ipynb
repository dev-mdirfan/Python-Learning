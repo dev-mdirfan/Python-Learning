{
 "cells": [
  {
   "cell_type": "markdown",
   "metadata": {},
   "source": [
    "# dictionary :\n",
    "* It is datatype\n",
    "* It is key value pairs (i.e have always key & value)"
   ]
  },
  {
   "cell_type": "code",
   "execution_count": 1,
   "metadata": {},
   "outputs": [
    {
     "name": "stdout",
     "output_type": "stream",
     "text": [
      "<class 'dict'>\n"
     ]
    }
   ],
   "source": [
    "d1 = {}                 # Empty Dictionary\n",
    "print(type(d1))"
   ]
  },
  {
   "cell_type": "code",
   "execution_count": 2,
   "metadata": {},
   "outputs": [
    {
     "name": "stdout",
     "output_type": "stream",
     "text": [
      "{'Harry': 'Burger', 'Rohan': 'Fish', 'SkillF': 'Roti'}\n"
     ]
    }
   ],
   "source": [
    "d2 = {'Harry': 'Burger', 'Rohan': 'Fish', 'SkillF': 'Roti'}\n",
    "print(d2)"
   ]
  },
  {
   "cell_type": "code",
   "execution_count": 3,
   "metadata": {},
   "outputs": [
    {
     "ename": "KeyError",
     "evalue": "'harry'",
     "output_type": "error",
     "traceback": [
      "\u001b[1;31m---------------------------------------------------------------------------\u001b[0m",
      "\u001b[1;31mKeyError\u001b[0m                                  Traceback (most recent call last)",
      "\u001b[1;32md:\\Python Learning ✅\\1- Python- Harry (129 videos)\\6-Dictionary & its function.ipynb Cell 4'\u001b[0m in \u001b[0;36m<cell line: 2>\u001b[1;34m()\u001b[0m\n\u001b[0;32m      <a href='vscode-notebook-cell:/d%3A/Python%20Learning%20%E2%9C%85/1-%20Python-%20Harry%20%28129%20videos%29/6-Dictionary%20%26%20its%20function.ipynb#ch0000003?line=0'>1</a>\u001b[0m \u001b[39m# Accessing the element of dictionary\u001b[39;00m\n\u001b[1;32m----> <a href='vscode-notebook-cell:/d%3A/Python%20Learning%20%E2%9C%85/1-%20Python-%20Harry%20%28129%20videos%29/6-Dictionary%20%26%20its%20function.ipynb#ch0000003?line=1'>2</a>\u001b[0m \u001b[39mprint\u001b[39m(d2[\u001b[39m\"\u001b[39;49m\u001b[39mharry\u001b[39;49m\u001b[39m\"\u001b[39;49m])\n",
      "\u001b[1;31mKeyError\u001b[0m: 'harry'"
     ]
    }
   ],
   "source": [
    "# Accessing the element of dictionary\n",
    "print(d2[\"harry\"])              # Error - Case Sensitive"
   ]
  },
  {
   "cell_type": "code",
   "execution_count": 4,
   "metadata": {},
   "outputs": [
    {
     "name": "stdout",
     "output_type": "stream",
     "text": [
      "Burger\n"
     ]
    }
   ],
   "source": [
    "print(d2[\"Harry\"])"
   ]
  },
  {
   "cell_type": "markdown",
   "metadata": {},
   "source": [
    "* Declaring dictionary of dictionary"
   ]
  },
  {
   "cell_type": "code",
   "execution_count": 5,
   "metadata": {},
   "outputs": [
    {
     "name": "stdout",
     "output_type": "stream",
     "text": [
      "{'Harry': 'Burger', 'Rohan': 'Fish', 'SkillF': 'Roti', 'Shubham': {'B': 'Maggie', 'L': 'Roti', 'D': 'Chicken'}}\n",
      "{'B': 'Maggie', 'L': 'Roti', 'D': 'Chicken'}\n",
      "Maggie\n"
     ]
    }
   ],
   "source": [
    "d3 = {\"Harry\" : \"Burger\", \"Rohan\" : \"Fish\", \"SkillF\" : \"Roti\", \"Shubham\" : {\"B\" : \"Maggie\", \"L\" : \"Roti\", \"D\" : \"Chicken\"}}\n",
    "print(d3)\n",
    "print(d3[\"Shubham\"])                    # Accessing SubDictionary\n",
    "print(d3[\"Shubham\"][\"B\"])               # Accessing value of subDictionary"
   ]
  },
  {
   "cell_type": "markdown",
   "metadata": {},
   "source": [
    "* value can be -\n",
    "    * Dictionary\n",
    "    * List\n",
    "    * Tuple\n",
    "* Key is immutable (\"Harry\" can not be change)"
   ]
  },
  {
   "cell_type": "markdown",
   "metadata": {},
   "source": [
    "* Updating Dictionary/ Adding element (key : value)\n",
    "* Key and value can be int, float string"
   ]
  },
  {
   "cell_type": "code",
   "execution_count": 6,
   "metadata": {},
   "outputs": [
    {
     "name": "stdout",
     "output_type": "stream",
     "text": [
      "{'Ankit': 'Junk Food', 'Aurangzeb': 'Kababs', 420: 'Mango'}\n"
     ]
    }
   ],
   "source": [
    "d4 = {}\n",
    "d4[\"Ankit\"] = \"Junk Food\"\n",
    "d4[\"Aurangzeb\"] = \"Kababs\"\n",
    "d4[420] = \"Mango\"\n",
    "print(d4)"
   ]
  },
  {
   "cell_type": "markdown",
   "metadata": {},
   "source": [
    "* Deletion of element in dictionary -"
   ]
  },
  {
   "cell_type": "code",
   "execution_count": 7,
   "metadata": {},
   "outputs": [
    {
     "name": "stdout",
     "output_type": "stream",
     "text": [
      "{'Ankit': 'Junk Food', 'Aurangzeb': 'Kababs'}\n"
     ]
    }
   ],
   "source": [
    "del d4[420]\n",
    "print(d4)"
   ]
  },
  {
   "cell_type": "markdown",
   "metadata": {},
   "source": [
    "## 1.2 Dictionary Functions/Methods :\n",
    "\n",
    "* dict.copy()\n",
    "    * it copy the original dictionary with different ID return the copied dictionary"
   ]
  },
  {
   "cell_type": "code",
   "execution_count": 8,
   "metadata": {},
   "outputs": [
    {
     "name": "stdout",
     "output_type": "stream",
     "text": [
      "{'Ankit': 'Junk Food', 'Aurangzeb': 'Kababs'}\n"
     ]
    }
   ],
   "source": [
    "print(d4.copy())               # Copy dictionary"
   ]
  },
  {
   "cell_type": "code",
   "execution_count": 9,
   "metadata": {},
   "outputs": [
    {
     "name": "stdout",
     "output_type": "stream",
     "text": [
      "{'Ankit': 'Junk Food', 'Aurangzeb': 'Kababs'}\n"
     ]
    }
   ],
   "source": [
    "d5 = d4.copy()              # Return copied dictionary in d5\n",
    "print(d5)"
   ]
  },
  {
   "cell_type": "code",
   "execution_count": 10,
   "metadata": {},
   "outputs": [
    {
     "name": "stdout",
     "output_type": "stream",
     "text": [
      "{'Aurangzeb': 'Kababs'}\n",
      "{'Aurangzeb': 'Kababs'}\n"
     ]
    }
   ],
   "source": [
    "d6 = d4             # It does not copy the original dictionary \"It refers to same dictionary\"\n",
    "del d6['Ankit']\n",
    "print(d4)\n",
    "print(d6)\n",
    "# When d6 = d4 : d6 is pointer and d4 is pointer. There is no new dictionary  so element deleted from both"
   ]
  },
  {
   "cell_type": "code",
   "execution_count": 11,
   "metadata": {},
   "outputs": [
    {
     "name": "stdout",
     "output_type": "stream",
     "text": [
      "{'Ankit': 'Junk Food'}\n",
      "{'Ankit': 'Junk Food', 'Aurangzeb': 'Kababs'}\n"
     ]
    }
   ],
   "source": [
    "d7 = d5.copy()                      # Shallow Copy\n",
    "del d7['Aurangzeb']                 #'Aurangzeb' only deleted from d7 not d5\n",
    "print(d7)\n",
    "print(d5)"
   ]
  },
  {
   "cell_type": "markdown",
   "metadata": {},
   "source": [
    "* dict.get(key)\n",
    "    * It return the value of key"
   ]
  },
  {
   "cell_type": "code",
   "execution_count": 12,
   "metadata": {},
   "outputs": [
    {
     "name": "stdout",
     "output_type": "stream",
     "text": [
      "Junk Food\n"
     ]
    }
   ],
   "source": [
    "print(d5.get('Ankit'))"
   ]
  },
  {
   "cell_type": "markdown",
   "metadata": {},
   "source": [
    "* dict.update({key : value})\n",
    "    * It update the original dictionary"
   ]
  },
  {
   "cell_type": "code",
   "execution_count": 13,
   "metadata": {},
   "outputs": [
    {
     "name": "stdout",
     "output_type": "stream",
     "text": [
      "None\n"
     ]
    }
   ],
   "source": [
    "print(d5.update({'Leena' : 'Coffee'}))"
   ]
  },
  {
   "cell_type": "code",
   "execution_count": 14,
   "metadata": {},
   "outputs": [
    {
     "name": "stdout",
     "output_type": "stream",
     "text": [
      "{'Ankit': 'Junk Food', 'Aurangzeb': 'Kababs', 'Leena': 'Coffee'}\n"
     ]
    }
   ],
   "source": [
    "d5.update({'Leena' : 'Coffee'})\n",
    "print(d5)"
   ]
  },
  {
   "cell_type": "markdown",
   "metadata": {},
   "source": [
    "* dict.keys()\n",
    "    * To get list of all  keys"
   ]
  },
  {
   "cell_type": "code",
   "execution_count": 15,
   "metadata": {},
   "outputs": [
    {
     "data": {
      "text/plain": [
       "dict_keys(['Ankit', 'Aurangzeb', 'Leena'])"
      ]
     },
     "execution_count": 15,
     "metadata": {},
     "output_type": "execute_result"
    }
   ],
   "source": [
    "d5.keys()"
   ]
  },
  {
   "cell_type": "markdown",
   "metadata": {},
   "source": [
    "* dict.values()\n",
    "    * To get list of all values"
   ]
  },
  {
   "cell_type": "code",
   "execution_count": 16,
   "metadata": {},
   "outputs": [
    {
     "data": {
      "text/plain": [
       "dict_values(['Junk Food', 'Kababs', 'Coffee'])"
      ]
     },
     "execution_count": 16,
     "metadata": {},
     "output_type": "execute_result"
    }
   ],
   "source": [
    "d5.values()"
   ]
  },
  {
   "cell_type": "markdown",
   "metadata": {},
   "source": [
    "* dict.items()\n",
    "     * To get list of all, tuple of (key, value) pairs"
   ]
  },
  {
   "cell_type": "code",
   "execution_count": 17,
   "metadata": {},
   "outputs": [
    {
     "data": {
      "text/plain": [
       "dict_items([('Ankit', 'Junk Food'), ('Aurangzeb', 'Kababs'), ('Leena', 'Coffee')])"
      ]
     },
     "execution_count": 17,
     "metadata": {},
     "output_type": "execute_result"
    }
   ],
   "source": [
    "d5.items()"
   ]
  },
  {
   "cell_type": "markdown",
   "metadata": {},
   "source": [
    "[Google Dictionary Methods W3shool](https://www.w3schools.com/python/python_ref_dictionary.asp)"
   ]
  }
 ],
 "metadata": {
  "kernelspec": {
   "display_name": "Python 3.10.4 64-bit",
   "language": "python",
   "name": "python3"
  },
  "language_info": {
   "codemirror_mode": {
    "name": "ipython",
    "version": 3
   },
   "file_extension": ".py",
   "mimetype": "text/x-python",
   "name": "python",
   "nbconvert_exporter": "python",
   "pygments_lexer": "ipython3",
   "version": "3.10.4"
  },
  "orig_nbformat": 4,
  "vscode": {
   "interpreter": {
    "hash": "21a211638620dc4d13124771efa70334ad80aea274b054c266d925d2e2a04b1b"
   }
  }
 },
 "nbformat": 4,
 "nbformat_minor": 2
}
