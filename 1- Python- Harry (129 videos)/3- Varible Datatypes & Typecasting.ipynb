{
 "cells": [
  {
   "cell_type": "markdown",
   "metadata": {},
   "source": [
    "# Variable Datatype :"
   ]
  },
  {
   "cell_type": "code",
   "execution_count": 2,
   "metadata": {},
   "outputs": [],
   "source": [
    "var1 = \"Welcome\"        # String Variable\n",
    "var2 = \"To Delhi\"       # String Variable\n",
    "var3 = 4                # Integer Variable\n",
    "var4 = 36.7             # Float Variable"
   ]
  },
  {
   "cell_type": "markdown",
   "metadata": {},
   "source": [
    "## Type Function :\n",
    "type(variable name) : It return type of the variable"
   ]
  },
  {
   "cell_type": "code",
   "execution_count": 4,
   "metadata": {},
   "outputs": [
    {
     "name": "stdout",
     "output_type": "stream",
     "text": [
      "<class 'str'>\n",
      "<class 'int'>\n",
      "<class 'float'>\n"
     ]
    }
   ],
   "source": [
    "print(type(var2))\n",
    "print(type(var3))\n",
    "print(type(var4))"
   ]
  },
  {
   "cell_type": "markdown",
   "metadata": {},
   "source": [
    "## Concatenation of String :\n",
    "* \"If two string are added called as concatenation\"\n",
    "* We can add strings\n",
    "* We can add string and number together with typecasting"
   ]
  },
  {
   "cell_type": "code",
   "execution_count": 8,
   "metadata": {},
   "outputs": [
    {
     "name": "stdout",
     "output_type": "stream",
     "text": [
      "WelcomeTo Delhi\n",
      "40.7\n"
     ]
    },
    {
     "ename": "TypeError",
     "evalue": "can only concatenate str (not \"int\") to str",
     "output_type": "error",
     "traceback": [
      "\u001b[1;31m---------------------------------------------------------------------------\u001b[0m",
      "\u001b[1;31mTypeError\u001b[0m                                 Traceback (most recent call last)",
      "\u001b[1;32md:\\Python Learning ✅\\1- Python- Harry (129 videos)\\3- Varible Datatypes & Typecasting.ipynb Cell 6'\u001b[0m in \u001b[0;36m<cell line: 5>\u001b[1;34m()\u001b[0m\n\u001b[0;32m      <a href='vscode-notebook-cell:/d%3A/Python%20Learning%20%E2%9C%85/1-%20Python-%20Harry%20%28129%20videos%29/3-%20Varible%20Datatypes%20%26%20Typecasting.ipynb#ch0000007?line=0'>1</a>\u001b[0m \u001b[39mprint\u001b[39m(var1 \u001b[39m+\u001b[39m var2)     \u001b[39m# Concatenation\u001b[39;00m\n\u001b[0;32m      <a href='vscode-notebook-cell:/d%3A/Python%20Learning%20%E2%9C%85/1-%20Python-%20Harry%20%28129%20videos%29/3-%20Varible%20Datatypes%20%26%20Typecasting.ipynb#ch0000007?line=2'>3</a>\u001b[0m \u001b[39mprint\u001b[39m(var3 \u001b[39m+\u001b[39m var4)\n\u001b[1;32m----> <a href='vscode-notebook-cell:/d%3A/Python%20Learning%20%E2%9C%85/1-%20Python-%20Harry%20%28129%20videos%29/3-%20Varible%20Datatypes%20%26%20Typecasting.ipynb#ch0000007?line=4'>5</a>\u001b[0m \u001b[39mprint\u001b[39m(var2 \u001b[39m+\u001b[39;49m var3)\n",
      "\u001b[1;31mTypeError\u001b[0m: can only concatenate str (not \"int\") to str"
     ]
    }
   ],
   "source": [
    "print(var1 + var2)     # Concatenation\n",
    "\n",
    "print(var3 + var4)\n",
    "\n",
    "print(var2 + var3)     # Gives an Error"
   ]
  },
  {
   "cell_type": "code",
   "execution_count": 7,
   "metadata": {},
   "outputs": [
    {
     "name": "stdout",
     "output_type": "stream",
     "text": [
      "To Delhi4\n"
     ]
    }
   ],
   "source": [
    "print(var2 + str(var3))"
   ]
  },
  {
   "cell_type": "markdown",
   "metadata": {},
   "source": [
    "## Typecasting :\n",
    "* To convert string to integer use int() function\n",
    "    * str()\n",
    "    * int()\n",
    "    * float()\n",
    "    * list()\n",
    "    * dict()\n",
    "    * tuple()"
   ]
  },
  {
   "cell_type": "code",
   "execution_count": 9,
   "metadata": {},
   "outputs": [
    {
     "name": "stdout",
     "output_type": "stream",
     "text": [
      "86\n"
     ]
    }
   ],
   "source": [
    "var5 = \"54\"\n",
    "var6 = \"32\"\n",
    "print(int(var5)+int(var6))"
   ]
  },
  {
   "cell_type": "markdown",
   "metadata": {},
   "source": [
    "### To print many times string"
   ]
  },
  {
   "cell_type": "code",
   "execution_count": 10,
   "metadata": {},
   "outputs": [
    {
     "name": "stdout",
     "output_type": "stream",
     "text": [
      "Hello Irfan\n",
      "Hello Irfan\n",
      "Hello Irfan\n",
      "Hello Irfan\n",
      "Hello Irfan\n",
      "Hello Irfan\n",
      "Hello Irfan\n",
      "Hello Irfan\n",
      "Hello Irfan\n",
      "Hello Irfan\n",
      "\n"
     ]
    }
   ],
   "source": [
    "print(10*\"Hello Irfan\\n\")"
   ]
  },
  {
   "cell_type": "code",
   "execution_count": 12,
   "metadata": {},
   "outputs": [
    {
     "name": "stdout",
     "output_type": "stream",
     "text": [
      "8600\n"
     ]
    }
   ],
   "source": [
    "# Tis will Multiply the number 100 times\n",
    "print(100*(int(var5)+int(var6)))"
   ]
  },
  {
   "cell_type": "code",
   "execution_count": 13,
   "metadata": {},
   "outputs": [
    {
     "name": "stdout",
     "output_type": "stream",
     "text": [
      "86868686868686868686\n"
     ]
    }
   ],
   "source": [
    "# This will repeat the string 10 times\n",
    "print(10*str(int(var5)+int(var6)))"
   ]
  },
  {
   "cell_type": "markdown",
   "metadata": {},
   "source": [
    "\n",
    "## Input Function :\n",
    "input() function is used to take input from user"
   ]
  },
  {
   "cell_type": "code",
   "execution_count": 4,
   "metadata": {},
   "outputs": [
    {
     "name": "stdout",
     "output_type": "stream",
     "text": [
      "Enter your number:\n",
      "You Entered: 23\n",
      "Correct way to add 10: 33\n"
     ]
    }
   ],
   "source": [
    "print(\"Enter your number:\")\n",
    "var7 = input()                  # Default type of input() function is string\n",
    "print(\"You Entered:\",var7)\n",
    "# print(\"After 10 adding:\",var7 + 10)    # Error str and int can't added\n",
    "print(\"Correct way to add 10:\",int(var7)+10)"
   ]
  },
  {
   "cell_type": "markdown",
   "metadata": {},
   "source": [
    "## Quiz 1:\n",
    "Write a program to add two numbers are taken by user"
   ]
  },
  {
   "cell_type": "code",
   "execution_count": 5,
   "metadata": {},
   "outputs": [
    {
     "name": "stdout",
     "output_type": "stream",
     "text": [
      "Sum of these two numbers is: 25\n"
     ]
    }
   ],
   "source": [
    "n1 = input(\"Enter first number\")\n",
    "n2 = input(\"Enter second number\")\n",
    "print(\"Sum of these two numbers is:\",int(n1)+int(n2))"
   ]
  }
 ],
 "metadata": {
  "kernelspec": {
   "display_name": "Python 3.10.4 64-bit",
   "language": "python",
   "name": "python3"
  },
  "language_info": {
   "codemirror_mode": {
    "name": "ipython",
    "version": 3
   },
   "file_extension": ".py",
   "mimetype": "text/x-python",
   "name": "python",
   "nbconvert_exporter": "python",
   "pygments_lexer": "ipython3",
   "version": "3.10.4"
  },
  "orig_nbformat": 4,
  "vscode": {
   "interpreter": {
    "hash": "21a211638620dc4d13124771efa70334ad80aea274b054c266d925d2e2a04b1b"
   }
  }
 },
 "nbformat": 4,
 "nbformat_minor": 2
}
