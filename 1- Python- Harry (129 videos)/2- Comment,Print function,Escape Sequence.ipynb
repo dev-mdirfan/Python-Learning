{
 "cells": [
  {
   "cell_type": "code",
   "execution_count": 8,
   "metadata": {},
   "outputs": [
    {
     "name": "stdout",
     "output_type": "stream",
     "text": [
      "Hello World\n"
     ]
    }
   ],
   "source": [
    "import flask\n",
    "print(\"Hello World\")  # parameter accepts as string\n",
    "# print(Hello World)  # Error"
   ]
  },
  {
   "cell_type": "markdown",
   "metadata": {},
   "source": [
    "# Comments :\n",
    "Statement that ignores python interpreter\n",
    "* Single line comment start from #\n",
    "* Multi line comment written in 3 double inverted comma \"\"\" \"\"\""
   ]
  },
  {
   "cell_type": "code",
   "execution_count": 9,
   "metadata": {},
   "outputs": [
    {
     "name": "stdout",
     "output_type": "stream",
     "text": [
      "Welcome\n"
     ]
    }
   ],
   "source": [
    "# This is single line comment\n",
    "\"\"\"\n",
    "This is example of\n",
    "multi line comment\n",
    "\"\"\"\n",
    "print(\"Welcome\")"
   ]
  },
  {
   "cell_type": "code",
   "execution_count": 10,
   "metadata": {},
   "outputs": [
    {
     "name": "stdout",
     "output_type": "stream",
     "text": [
      "Hello World\n"
     ]
    }
   ],
   "source": [
    "print(\"Hello World\")     # comment after statement"
   ]
  },
  {
   "cell_type": "code",
   "execution_count": 11,
   "metadata": {},
   "outputs": [
    {
     "name": "stdout",
     "output_type": "stream",
     "text": [
      "Hi\n",
      "I'm Irfan\n"
     ]
    }
   ],
   "source": [
    "# Every \"print\" statement start from new line\n",
    "print(\"Hi\")\n",
    "print(\"I'm Irfan\")"
   ]
  },
  {
   "cell_type": "code",
   "execution_count": 12,
   "metadata": {},
   "outputs": [
    {
     "name": "stdout",
     "output_type": "stream",
     "text": [
      "How are you?I am fine,and you?jokerI also good\n"
     ]
    }
   ],
   "source": [
    "# For writing statement in one line\n",
    "print(\"How are you?\",end =\"\")      # Blank for no space\n",
    "print(\"I am fine\", end=',')\n",
    "print(\"and you?\", end='joker')     # you can write anything\n",
    "print(\"I also good\")"
   ]
  },
  {
   "cell_type": "code",
   "execution_count": 13,
   "metadata": {},
   "outputs": [
    {
     "name": "stdout",
     "output_type": "stream",
     "text": [
      "Subscribe Now and brother do like also\n"
     ]
    }
   ],
   "source": [
    "# Two string in print() separated with comma(,) shows as one space separated statement\n",
    "print(\"Subscribe Now\",\"and brother do like also\")"
   ]
  },
  {
   "cell_type": "markdown",
   "metadata": {},
   "source": [
    "# Escape Sequences :\n",
    "* \\\\   -->   To print Backslash \\\n",
    "* \\\\\"   -->   Double Quote \" \n",
    "* \\\\'   -->   Single Quote '\n",
    "* \\n   -->   New Line\n",
    "* \\t   -->   Tab\n",
    "* \\r   -->   Carriage Return\n",
    "* \\b   -->   Backspace\n",
    "* \\f   -->   From Feed"
   ]
  },
  {
   "cell_type": "code",
   "execution_count": 5,
   "metadata": {},
   "outputs": [
    {
     "name": "stdout",
     "output_type": "stream",
     "text": [
      "hi\\This\"is'machine\n",
      "learning\tusinpython\fin\n",
      "hindish\n"
     ]
    }
   ],
   "source": [
    "print(\"hi\\\\This\\\"is\\'machine\\nlearning\\tusing\\bpython\\fin\\nenglish\\rhindi\")"
   ]
  }
 ],
 "metadata": {
  "kernelspec": {
   "display_name": "Python 3.9.7 64-bit",
   "language": "python",
   "name": "python3"
  },
  "language_info": {
   "codemirror_mode": {
    "name": "ipython",
    "version": 3
   },
   "file_extension": ".py",
   "mimetype": "text/x-python",
   "name": "python",
   "nbconvert_exporter": "python",
   "pygments_lexer": "ipython3",
   "version": "3.9.7"
  },
  "orig_nbformat": 4,
  "vscode": {
   "interpreter": {
    "hash": "cfad1cc29869cd4a297d2569111f66e3f3b7dc7ac4aef96cee209871e4d39610"
   }
  }
 },
 "nbformat": 4,
 "nbformat_minor": 2
}
