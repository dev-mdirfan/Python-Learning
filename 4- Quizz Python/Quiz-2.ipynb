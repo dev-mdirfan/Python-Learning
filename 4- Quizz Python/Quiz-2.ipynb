{
 "cells": [
  {
   "cell_type": "markdown",
   "metadata": {},
   "source": [
    "# What will be output of the following python code?\n",
    "1. [('H', 1),('E', 1),('L', 1),('L', 1),('O', 1)]\n",
    "2. [('HELLO', 5)]\n",
    "3. [('H', 5),('E', 5),('L', 5),('L', 5),('O', 5)]\n",
    "4. Syntax Error"
   ]
  },
  {
   "cell_type": "code",
   "execution_count": 2,
   "metadata": {},
   "outputs": [
    {
     "name": "stdout",
     "output_type": "stream",
     "text": [
      "[('H', 1), ('E', 1), ('L', 1), ('L', 1), ('O', 1)]\n"
     ]
    }
   ],
   "source": [
    "a = \"hello\"\n",
    "b = list((x.upper(),len(x)) for x in a)\n",
    "print(b)"
   ]
  },
  {
   "cell_type": "markdown",
   "metadata": {},
   "source": [
    "# The format function, when applied on a string returns ________\n",
    "1. Error\n",
    "2. int\n",
    "3. bool\n",
    "4. str\n",
    "\n",
    "#### Answer :\n",
    "str.format()\n",
    "* You can do variable substitutions and data formatting\n",
    "* This enable you to concatenate parts of a string at desired intervals through point data formatting"
   ]
  },
  {
   "cell_type": "code",
   "execution_count": 5,
   "metadata": {},
   "outputs": [
    {
     "data": {
      "text/plain": [
       "'hello World'"
      ]
     },
     "execution_count": 5,
     "metadata": {},
     "output_type": "execute_result"
    }
   ],
   "source": [
    "\"hello World\".format()"
   ]
  }
 ],
 "metadata": {
  "kernelspec": {
   "display_name": "Python 3.10.4 64-bit",
   "language": "python",
   "name": "python3"
  },
  "language_info": {
   "codemirror_mode": {
    "name": "ipython",
    "version": 3
   },
   "file_extension": ".py",
   "mimetype": "text/x-python",
   "name": "python",
   "nbconvert_exporter": "python",
   "pygments_lexer": "ipython3",
   "version": "3.10.4"
  },
  "orig_nbformat": 4,
  "vscode": {
   "interpreter": {
    "hash": "21a211638620dc4d13124771efa70334ad80aea274b054c266d925d2e2a04b1b"
   }
  }
 },
 "nbformat": 4,
 "nbformat_minor": 2
}
