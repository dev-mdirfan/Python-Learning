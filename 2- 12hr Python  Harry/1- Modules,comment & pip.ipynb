{
 "cells": [
  {
   "cell_type": "markdown",
   "metadata": {},
   "source": [
    "### Python Command Lines :\n",
    "\n",
    "> python\n",
    "\n",
    "> exit()\n",
    "\n",
    "> python --version\n",
    "\n",
    "### What is Programming?\n",
    "* Just like we use Hindi or English to communicate with each other, we use a programming language like python to communicate with the computer.\n",
    "\n",
    "### What is Python?\n",
    "Python is a simple and easy to understand language which feels like reading simple english. This pseudo code nature of python makes it easy to learn and understandable by beginners.\n",
    "\n",
    "### Features of python :\n",
    "* Easy to understand = less development time.\n",
    "* Free and Open Source\n",
    "* High level Language\n",
    "* Portable -> works on Linus/Windows/Mac.\n",
    "+ Fun to work with\n",
    "\n",
    "### Installation :\n",
    "Python can be easily installed from [python.org](https://www.python.org/downloads/)."
   ]
  },
  {
   "cell_type": "markdown",
   "metadata": {},
   "source": [
    "## 1. Modules, Comments & pip\n",
    "Lets write our very first python program create a file called hello.py and paste below code in it"
   ]
  },
  {
   "cell_type": "code",
   "execution_count": 1,
   "metadata": {},
   "outputs": [
    {
     "name": "stdout",
     "output_type": "stream",
     "text": [
      "Hello World!\n"
     ]
    }
   ],
   "source": [
    "print(\"Hello World!\")   # print is a function"
   ]
  },
  {
   "cell_type": "markdown",
   "metadata": {},
   "source": [
    "### Modules :\n",
    "A module is a file containing code written by somebody else(usually) which can be imported and used in our programs."
   ]
  },
  {
   "cell_type": "code",
   "execution_count": 6,
   "metadata": {},
   "outputs": [
    {
     "ename": "ModuleNotFoundError",
     "evalue": "No module named 'tensorflow'",
     "output_type": "error",
     "traceback": [
      "\u001b[1;31m---------------------------------------------------------------------------\u001b[0m",
      "\u001b[1;31mModuleNotFoundError\u001b[0m                       Traceback (most recent call last)",
      "\u001b[1;32md:\\Programme Notes ✅✅✅\\Python Learning ✅\\1- 12hr Python  Harry\\1- Modules,comment & pip.ipynb Cell 5'\u001b[0m in \u001b[0;36m<cell line: 2>\u001b[1;34m()\u001b[0m\n\u001b[0;32m      <a href='vscode-notebook-cell:/d%3A/Programme%20Notes%20%E2%9C%85%E2%9C%85%E2%9C%85/Python%20Learning%20%E2%9C%85/1-%2012hr%20Python%20%20Harry/1-%20Modules%2Ccomment%20%26%20pip.ipynb#ch0000004?line=0'>1</a>\u001b[0m \u001b[39mimport\u001b[39;00m \u001b[39mos\u001b[39;00m           \u001b[39m# Built-in Module\u001b[39;00m\n\u001b[1;32m----> <a href='vscode-notebook-cell:/d%3A/Programme%20Notes%20%E2%9C%85%E2%9C%85%E2%9C%85/Python%20Learning%20%E2%9C%85/1-%2012hr%20Python%20%20Harry/1-%20Modules%2Ccomment%20%26%20pip.ipynb#ch0000004?line=1'>2</a>\u001b[0m \u001b[39mimport\u001b[39;00m \u001b[39mtensorflow\u001b[39;00m\n",
      "\u001b[1;31mModuleNotFoundError\u001b[0m: No module named 'tensorflow'"
     ]
    }
   ],
   "source": [
    "import os           # Built-in Module\n",
    "import tensorflow   # External Module we have install (Error- Not Found)"
   ]
  },
  {
   "cell_type": "markdown",
   "metadata": {},
   "source": [
    "### Pip :\n",
    "Pip is the package manger for python you can use pip to install a module on your system.\n",
    "\n",
    "> pip install tensorflow\n",
    "\n",
    "### Types of module\n",
    "There are two types of modules in python\n",
    "1. Built-in Module  -> Pre installed in python (os,random,abc)\n",
    "2. External Module  -> Need to install using pip (flask, tensorflow)\n",
    "\n",
    "#### Using Python as a calculator\n",
    "* \"python\" + press enter on the command line terminal (This opens REPL(Read Evaluate Print Loop))\n",
    "* To exit - exit()\n",
    "\n",
    "### Comments :\n",
    "Comments are used to write something which the programmer does not want to execute.\n",
    "\n",
    "#### Types of comments\n",
    "1. Single line comments- #\n",
    "2. Multiple line comment- \"\"\" abc \"\"\"\""
   ]
  },
  {
   "cell_type": "code",
   "execution_count": 7,
   "metadata": {},
   "outputs": [
    {
     "name": "stdout",
     "output_type": "stream",
     "text": [
      "End the day of programmer hell\n"
     ]
    }
   ],
   "source": [
    "# Author : Irfan\n",
    "# Licensed to : ABC Company\n",
    "\"\"\"\n",
    "Welcome,\n",
    "Thanks for reading!\n",
    "\"\"\"\n",
    "import os  # importing the os module\n",
    "print(\"End the day of programmer hell\")"
   ]
  },
  {
   "cell_type": "markdown",
   "metadata": {},
   "source": [
    "### Practice Set :\n",
    "##### 1. Write a program to print Twinkle Twinkle little star poem in python."
   ]
  },
  {
   "cell_type": "code",
   "execution_count": 9,
   "metadata": {},
   "outputs": [
    {
     "name": "stdout",
     "output_type": "stream",
     "text": [
      "Twinkle, twinkle, little star,\n",
      "How I wonder what you are!\n",
      "Up above the world so high,\n",
      "Like a diamond in the sky.\n"
     ]
    }
   ],
   "source": [
    "print('''Twinkle, twinkle, little star,\n",
    "How I wonder what you are!\n",
    "Up above the world so high,\n",
    "Like a diamond in the sky.''')"
   ]
  },
  {
   "cell_type": "markdown",
   "metadata": {},
   "source": [
    "##### 2. Install an external module and use it to perform an operation of your interest (playsound)"
   ]
  },
  {
   "cell_type": "code",
   "execution_count": 2,
   "metadata": {},
   "outputs": [],
   "source": [
    "# from playsound import playsound\n",
    "# playsound('D:\\\\Programme Notes ✅✅✅\\\\Python Learning ✅\\\\1- 12hr Python  Harry\\\\Tonight.mp3')"
   ]
  },
  {
   "cell_type": "markdown",
   "metadata": {},
   "source": [
    "##### 3. Write a python program to print the contents of a directory using OS module. Search online for the function which does that."
   ]
  },
  {
   "cell_type": "code",
   "execution_count": 3,
   "metadata": {},
   "outputs": [
    {
     "name": "stdout",
     "output_type": "stream",
     "text": [
      "['.vscode', '1- Modules,comment & pip.ipynb', 'Tonight.mp3']\n"
     ]
    }
   ],
   "source": [
    "import os\n",
    "print(os.listdir())"
   ]
  }
 ],
 "metadata": {
  "interpreter": {
   "hash": "cfad1cc29869cd4a297d2569111f66e3f3b7dc7ac4aef96cee209871e4d39610"
  },
  "kernelspec": {
   "display_name": "Python 3.9.7 64-bit",
   "language": "python",
   "name": "python3"
  },
  "language_info": {
   "codemirror_mode": {
    "name": "ipython",
    "version": 3
   },
   "file_extension": ".py",
   "mimetype": "text/x-python",
   "name": "python",
   "nbconvert_exporter": "python",
   "pygments_lexer": "ipython3",
   "version": "3.9.7"
  },
  "orig_nbformat": 4
 },
 "nbformat": 4,
 "nbformat_minor": 2
}
